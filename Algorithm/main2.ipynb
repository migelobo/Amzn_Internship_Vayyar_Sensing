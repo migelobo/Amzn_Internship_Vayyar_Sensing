{
 "cells": [
  {
   "cell_type": "code",
   "execution_count": 23,
   "metadata": {},
   "outputs": [],
   "source": [
    "import pandas as pd\n",
    "import numpy as np\n",
    "import matplotlib.pyplot as plt\n",
    "from mpl_toolkits.mplot3d import axes3d\n",
    "import random as rd\n",
    "from statistics import mean"
   ]
  },
  {
   "cell_type": "code",
   "execution_count": 71,
   "metadata": {},
   "outputs": [],
   "source": [
    "def all_targets(data_set):\n",
    "    count = 1 \n",
    "    data_set_rows = len(data_set.axes[0])\n",
    "    data_set_cols = len(data_set.axes[1])\n",
    "    return_matrix = data_set['TARGET_ID']\n",
    "    for column in range(6,data_set_cols,4):\n",
    "        data_set.rename(columns={\"TARGET_ID.\"+str(count):'TARGET_ID'}, inplace=True)\n",
    "        count = count +1\n",
    "\n",
    "    return_matrix = data_set['TARGET_ID']\n",
    "    return_matrix = return_matrix.dropna(axis=1,how='all')\n",
    "    return return_matrix\n"
   ]
  },
  {
   "cell_type": "code",
   "execution_count": 72,
   "metadata": {},
   "outputs": [],
   "source": [
    "def parse_target(data_set,target_id,x_data,y_data,z_data):\n",
    "    cnt=2\n",
    "    inc = 0\n",
    "    x=1\n",
    "    y=2\n",
    "    z=3\n",
    "\n",
    "    for col in range(len(data_set['TARGET_ID'].columns)):\n",
    "        for row in range(len(all_targets(data_set))):\n",
    "            if (data_set['TARGET_ID'].values[row,col]) == target_id:\n",
    "                if col > inc:\n",
    "                    cnt+=4\n",
    "                    inc+=1\n",
    "                else:\n",
    "                    pass\n",
    "                x_data.append(data_set[data_set.axes[1].values[cnt+x]].values[row])\n",
    "                y_data.append(data_set[data_set.axes[1].values[cnt+y]].values[row])\n",
    "                z_data.append(data_set[data_set.axes[1].values[cnt+z]].values[row])"
   ]
  },
  {
   "cell_type": "code",
   "execution_count": 63,
   "metadata": {},
   "outputs": [
    {
     "data": {
      "text/plain": [
       "14"
      ]
     },
     "execution_count": 63,
     "metadata": {},
     "output_type": "execute_result"
    }
   ],
   "source": [
    "#Data set for Vayyar sensor of person sitting down, idea to populate more would be to perhaps find a range for X,Y,Z axis and just randomize loactations multiple times to \"simulate\" a person sitting down\n",
    "sit1 = pd.read_csv(r\"C:\\Users\\migelwlf\\Documents\\Vayyar\\Sensor Recordings\\sit1\\ApplicationLogs\\Tracker_Jun_23_2022__15_21_14.csv\")\n",
    "sit2 = pd.read_csv(r\"C:\\Users\\migelwlf\\Documents\\Vayyar\\Sensor Recordings\\sit2\\ApplicationLogs\\Tracker_Jun_23_2022__15_21_59.csv\")\n",
    "\n",
    "sit2 = sit2.dropna(axis=1,how='all')\n",
    "sit1 = sit1.dropna(axis=1,how='all')\n",
    "\n",
    "user_sit_1 = sit1['TARGET_ID']\n",
    "#user_sit_2 = []\n",
    "len(sit2.columns)"
   ]
  },
  {
   "cell_type": "code",
   "execution_count": 65,
   "metadata": {},
   "outputs": [
    {
     "name": "stdout",
     "output_type": "stream",
     "text": [
      "1.32\n",
      "3.0\n",
      "     TARGET_ID  TARGET_ID  TARGET_ID\n",
      "0            1        NaN        NaN\n",
      "1            1        NaN        NaN\n",
      "2            1        NaN        NaN\n",
      "3            1        NaN        NaN\n",
      "4            1        NaN        NaN\n",
      "..         ...        ...        ...\n",
      "255          2        NaN        NaN\n",
      "256          2        NaN        NaN\n",
      "257          2        NaN        NaN\n",
      "258          2        NaN        NaN\n",
      "259          2        NaN        NaN\n",
      "\n",
      "[260 rows x 3 columns]\n"
     ]
    }
   ],
   "source": [
    "\n",
    "sit2Rows = len(sit2.axes[0])\n",
    "sit2Columns = len(sit2.axes[1])\n",
    "\n",
    "\n",
    "#rename all target columns to \"TARGET ID\" for easier data manilpulation\n",
    "\n",
    "\n",
    "#user_sit_2 = sit2['TARGET_ID']\n",
    "#user_sit_1 = sit1['TARGET_ID']\n",
    "#TO DO: clean up data for NaN values\n",
    "\n",
    "#user_sit_2 = user_sit_2.dropna(axis=1,how='all')\n",
    "#user_sit_1 = user_sit_1.dropna(axis=1,how='all')\n",
    "\n",
    "user_sit_2 = find_target(sit2)\n",
    "\n",
    "print(sit2['TARGET_Y'].values[1])\n",
    "print(sit2[sit2.axes[1].values[6]].values[12,2])\n",
    "print(user_sit_2)\n",
    "#print(user_sit_1)"
   ]
  },
  {
   "cell_type": "code",
   "execution_count": 17,
   "metadata": {},
   "outputs": [],
   "source": [
    "\n",
    "sit2_x = []\n",
    "sit2_z = []\n",
    "cnt=2\n",
    "inc = 0\n",
    "x=1\n",
    "y=2\n",
    "z=3\n",
    "#Code to store all x/z-values for a specific target \n",
    "for col in range(len(sit2['TARGET_ID'].columns)):\n",
    "    for row in range(len(user_sit_2)):\n",
    "        if (sit2['TARGET_ID'].values[row,col]) == 2:\n",
    "            if col > inc:\n",
    "                cnt+=4\n",
    "                inc+=1\n",
    "            else:\n",
    "                pass\n",
    "            sit2_x.append(sit2[sit2.axes[1].values[cnt+x]].values[row])\n",
    "            sit2_z.append(sit2[sit2.axes[1].values[cnt+z]].values[row])\n"
   ]
  },
  {
   "cell_type": "code",
   "execution_count": 18,
   "metadata": {},
   "outputs": [
    {
     "data": {
      "text/plain": [
       "<matplotlib.collections.PathCollection at 0x29e7b1685b0>"
      ]
     },
     "execution_count": 18,
     "metadata": {},
     "output_type": "execute_result"
    },
    {
     "data": {
      "image/png": "[encoded data removed]",
      "text/plain": [
       "<Figure size 432x288 with 1 Axes>"
      ]
     },
     "metadata": {
      "needs_background": "light"
     },
     "output_type": "display_data"
    }
   ],
   "source": [
    "plt.scatter(sit2_x,sit2_z, alpha=.25)\n",
    "#plt.scatter(y_ax2,z_ax2, alpha=.25)"
   ]
  }
 ],
 "metadata": {
  "kernelspec": {
   "display_name": "Python 3.10.5 64-bit",
   "language": "python",
   "name": "python3"
  },
  "language_info": {
   "codemirror_mode": {
    "name": "ipython",
    "version": 3
   },
   "file_extension": ".py",
   "mimetype": "text/x-python",
   "name": "python",
   "nbconvert_exporter": "python",
   "pygments_lexer": "ipython3",
   "version": "3.10.5"
  },
  "orig_nbformat": 4,
  "vscode": {
   "interpreter": {
    "hash": "2d8ea4ce348c78a32aad2b2319c2095ef43097efa49e24875290671e8e9cce1d"
   }
  }
 },
 "nbformat": 4,
 "nbformat_minor": 2
}
